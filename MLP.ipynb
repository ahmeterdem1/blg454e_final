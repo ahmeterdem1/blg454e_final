{
 "cells": [
  {
   "cell_type": "code",
   "execution_count": 1091,
   "id": "initial_id",
   "metadata": {
    "collapsed": true,
    "ExecuteTime": {
     "end_time": "2024-06-03T20:19:31.546684Z",
     "start_time": "2024-06-03T20:19:31.527688Z"
    }
   },
   "outputs": [],
   "source": [
    "#!pip install vectorgebra    # Decomment this line to install vectorgebra\n",
    "#!pip install mlgebra        # Decomment this line to install mlgebra\n",
    "from mlgebra import *\n",
    "from vectorgebra import *\n",
    "import matplotlib.pyplot as plt\n",
    "import numpy as np # To load the dataset\n",
    "\n",
    "logger.setLevel(logging.WARNING)  # This library is loaded from vectorgebra and is used also by mlgebra\n",
    "np.random.seed(0)\n"
   ]
  },
  {
   "cell_type": "markdown",
   "source": [
    "MLgebra, is a basic machine learning library that I have created. It features multi-layer perceptrons as \"Dense\" layers.\n",
    "Kernels of the all of the algorithms used in the library are coded by me, so it is my own implementation as it is requested in the Ninova.\n",
    "\n",
    "This library as its backend, uses \"vectorgebra\" library to calculate mathematical and linear algebraic operations. Vectorgebra, is a numerical methods library that I have also created.\n",
    "\n",
    "[Vectorgebra](https://github.com/ahmeterdem1/Vector)\n",
    "[MLgebra](https://github.com/ahmeterdem1/ml)"
   ],
   "metadata": {
    "collapsed": false
   },
   "id": "927c071c23e76d72"
  },
  {
   "cell_type": "code",
   "execution_count": 1092,
   "outputs": [],
   "source": [
    "model = Model(\"MLP\", \"crossentropy\")\n",
    "\n",
    "model.structure([\n",
    "    Dense(input_shape=2, units=2, activation=\"relu\", bias=\"zero\"),\n",
    "    Dense(input_shape=2, units=2, activation=\"relu\", bias=\"zero\"),\n",
    "    Dense(input_shape=2, units=2, activation=\"softmax\", bias=\"zero\")\n",
    "])\n",
    "\n",
    "# Prepare the model\n"
   ],
   "metadata": {
    "collapsed": false,
    "ExecuteTime": {
     "end_time": "2024-06-03T20:19:31.546853Z",
     "start_time": "2024-06-03T20:19:31.532058Z"
    }
   },
   "id": "59bc0b9ff662da0"
  },
  {
   "cell_type": "code",
   "execution_count": 1093,
   "outputs": [
    {
     "data": {
      "text/plain": "<Figure size 640x480 with 1 Axes>",
      "image/png": "[encoded data removed]"
     },
     "metadata": {},
     "output_type": "display_data"
    }
   ],
   "source": [
    "# Prepare the data in vectorgebra\n",
    "\n",
    "first100 = np.random.normal(0, 1, (100, 2)).tolist()\n",
    "second100 = (np.random.normal(3, 1, (100, 2)) + 1).tolist()\n",
    "first100 = [Vector(*p) for p in first100]\n",
    "second100 = [Vector(*p) for p in second100]\n",
    "\n",
    "random.shuffle(first100)  # \"random\" library is imported from vectorgebra by default\n",
    "random.shuffle(second100)\n",
    "\n",
    "train_dataset = []\n",
    "for k in range(90):\n",
    "    train_dataset.append(first100[k])\n",
    "for k in range(90):\n",
    "    train_dataset.append(second100[k])\n",
    "\n",
    "test_dataset = []\n",
    "for k in range(10):\n",
    "    test_dataset.append(first100[k + 90])\n",
    "for k in range(10):\n",
    "    test_dataset.append(second100[k + 90])\n",
    "\n",
    "train_labels = [Vector(1, 0) if k%2==0 else Vector(0, 1) for k in range(180)]\n",
    "test_labels = [Vector(1, 0) if k%2==0 else Vector(0, 1) for k in range(20)]\n",
    "\n",
    "train_combined = list(zip(train_dataset, train_labels))\n",
    "test_combined = list(zip(test_dataset, test_labels))\n",
    "random.shuffle(train_combined)\n",
    "random.shuffle(test_combined)\n",
    "\n",
    "train_dataset, train_labels = zip(*train_combined)\n",
    "test_dataset, test_labels = zip(*test_combined)\n",
    "    \n",
    "for v in first100:\n",
    "    plt.scatter(v[0], v[1], color=\"blue\", label=\"Class 1\")\n",
    "for v in second100:\n",
    "    plt.scatter(v[0], v[1], color=\"orange\", label=\"Class 2\")\n",
    "plt.xlabel(\"Feature 1\")\n",
    "plt.ylabel(\"Feature 2\")\n",
    "plt.title(\"D1 dataset, linearly separable\")\n",
    "plt.show()"
   ],
   "metadata": {
    "collapsed": false,
    "ExecuteTime": {
     "end_time": "2024-06-03T20:19:32.020505Z",
     "start_time": "2024-06-03T20:19:31.539178Z"
    }
   },
   "id": "c815ed7f06c2f436"
  },
  {
   "cell_type": "code",
   "execution_count": 1094,
   "outputs": [],
   "source": [
    "for k in range(20):\n",
    "    model.train(train_dataset, train_labels, batch_size=1, lr=0.1)"
   ],
   "metadata": {
    "collapsed": false,
    "ExecuteTime": {
     "end_time": "2024-06-03T20:19:32.309736Z",
     "start_time": "2024-06-03T20:19:32.082739Z"
    }
   },
   "id": "6a2fd1f1da4795b9"
  },
  {
   "cell_type": "code",
   "execution_count": 1095,
   "outputs": [
    {
     "name": "stdout",
     "output_type": "stream",
     "text": [
      "[0.5466066735308124, 0.4533933264691876] [1, 0]\n",
      "[0.5466066735308124, 0.4533933264691876] [1, 0]\n",
      "[0.5466066735308124, 0.4533933264691876] [1, 0]\n",
      "[0.5466066735308124, 0.4533933264691876] [1, 0]\n",
      "[0.5466066735308124, 0.4533933264691876] [0, 1]\n",
      "[0.5466066735308124, 0.4533933264691876] [0, 1]\n",
      "[0.5466066735308124, 0.4533933264691876] [0, 1]\n",
      "[0.5466066735308124, 0.4533933264691876] [0, 1]\n",
      "[0.5466066735308124, 0.4533933264691876] [0, 1]\n",
      "[0.5466066735308124, 0.4533933264691876] [0, 1]\n",
      "[0.5466066735308124, 0.4533933264691876] [1, 0]\n",
      "[0.5466066735308124, 0.4533933264691876] [0, 1]\n",
      "[0.5466066735308124, 0.4533933264691876] [1, 0]\n",
      "[0.5466066735308124, 0.4533933264691876] [1, 0]\n",
      "[0.5466066735308124, 0.4533933264691876] [0, 1]\n",
      "[0.5466066735308124, 0.4533933264691876] [0, 1]\n",
      "[0.5466066735308124, 0.4533933264691876] [1, 0]\n",
      "[0.5466066735308124, 0.4533933264691876] [0, 1]\n",
      "[0.5466066735308124, 0.4533933264691876] [1, 0]\n",
      "[0.5466066735308124, 0.4533933264691876] [1, 0]\n",
      "Accuracy on the test set is 0.5\n",
      "Accuracy on the train set is 0.5\n"
     ]
    }
   ],
   "source": [
    "correct = 0\n",
    "for k, v in enumerate(test_dataset):\n",
    "    res = model.produce(v)\n",
    "    print(res, test_labels[k])\n",
    "    i = res.values.index(maximum(res))\n",
    "    if test_labels[k][i] == 1:\n",
    "        correct += 1\n",
    "    \n",
    "print(f\"Accuracy on the test set is {correct / 20}\")\n",
    "\n",
    "correct = 0\n",
    "for k, v in enumerate(train_dataset):\n",
    "    res = model.produce(v)\n",
    "    i = res.values.index(maximum(res))\n",
    "    if train_labels[k][i] == 1:\n",
    "        correct += 1\n",
    "        \n",
    "print(f\"Accuracy on the train set is {correct / 180}\")\n",
    "    "
   ],
   "metadata": {
    "collapsed": false,
    "ExecuteTime": {
     "end_time": "2024-06-03T20:19:32.322245Z",
     "start_time": "2024-06-03T20:19:32.319745Z"
    }
   },
   "id": "da58c3d1bf1dfd2d"
  },
  {
   "cell_type": "code",
   "execution_count": 1096,
   "outputs": [],
   "source": [
    "#model.saveModel(\"./\")"
   ],
   "metadata": {
    "collapsed": false,
    "ExecuteTime": {
     "end_time": "2024-06-03T20:19:32.324047Z",
     "start_time": "2024-06-03T20:19:32.321538Z"
    }
   },
   "id": "e626147ac4f046ac"
  },
  {
   "cell_type": "code",
   "execution_count": 1097,
   "outputs": [],
   "source": [
    "model2 = Model(\"MLP2\", \"crossentropy\")\n",
    "\n",
    "model2.structure([\n",
    "    Dense(input_shape=2, units=2, activation=\"relu\", bias=\"zero\"),\n",
    "    Dense(input_shape=2, units=2, activation=\"relu\", bias=\"zero\"),\n",
    "    Dense(input_shape=2, units=2, activation=\"softmax\", bias=\"zero\")\n",
    "])\n"
   ],
   "metadata": {
    "collapsed": false,
    "ExecuteTime": {
     "end_time": "2024-06-03T20:19:32.325654Z",
     "start_time": "2024-06-03T20:19:32.323703Z"
    }
   },
   "id": "9a5b7a60eddc82f8"
  },
  {
   "cell_type": "code",
   "execution_count": 1098,
   "outputs": [
    {
     "data": {
      "text/plain": "<Figure size 640x480 with 1 Axes>",
      "image/png": "[encoded data removed]"
     },
     "metadata": {},
     "output_type": "display_data"
    }
   ],
   "source": [
    "first100_nonlinear = np.random.normal(0, 1, (100, 2)).tolist()\n",
    "second100_nonlinear = np.random.normal(2.2, 1, (100, 2)).tolist()\n",
    "first100_nonlinear = [Vector(*p) for p in first100_nonlinear]\n",
    "second100_nonlinear = [Vector(*p) for p in second100_nonlinear]\n",
    "\n",
    "random.shuffle(first100_nonlinear)  # \"random\" library is imported from vectorgebra by default\n",
    "random.shuffle(second100_nonlinear)\n",
    "\n",
    "train_dataset = []\n",
    "for k in range(90):\n",
    "    train_dataset.append(first100_nonlinear[k])\n",
    "for k in range(90):\n",
    "    train_dataset.append(second100_nonlinear[k])\n",
    "\n",
    "test_dataset = []\n",
    "for k in range(10):\n",
    "    test_dataset.append(first100_nonlinear[k + 90])\n",
    "for k in range(10):\n",
    "    test_dataset.append(second100_nonlinear[k + 90])\n",
    "\n",
    "train_labels = [Vector(1, 0) if k%2==0 else Vector(0, 1) for k in range(180)]\n",
    "test_labels = [Vector(1, 0) if k%2==0 else Vector(0, 1) for k in range(20)]\n",
    "\n",
    "train_combined = list(zip(train_dataset, train_labels))\n",
    "test_combined = list(zip(test_dataset, test_labels))\n",
    "random.shuffle(train_combined)\n",
    "random.shuffle(test_combined)\n",
    "\n",
    "train_dataset, train_labels = zip(*train_combined)\n",
    "test_dataset, test_labels = zip(*test_combined)\n",
    "    \n",
    "for v in first100_nonlinear:\n",
    "    plt.scatter(v[0], v[1], color=\"blue\", label=\"Class 1\")\n",
    "for v in second100_nonlinear:\n",
    "    plt.scatter(v[0], v[1], color=\"orange\", label=\"Class 2\")\n",
    "plt.xlabel(\"Feature 1\")\n",
    "plt.ylabel(\"Feature 2\")\n",
    "plt.title(\"D2 dataset, linearly not separable\")\n",
    "plt.show()"
   ],
   "metadata": {
    "collapsed": false,
    "ExecuteTime": {
     "end_time": "2024-06-03T20:19:32.743351Z",
     "start_time": "2024-06-03T20:19:32.327412Z"
    }
   },
   "id": "d021c25c0825fe5"
  },
  {
   "cell_type": "code",
   "execution_count": 1099,
   "outputs": [
    {
     "name": "stdout",
     "output_type": "stream",
     "text": [
      "First weight of the last layer before training:  -0.43987120557451\n",
      "First weight of the last layer after training:  0.328855051159155\n"
     ]
    }
   ],
   "source": [
    "print(\"First weight of the last layer before training: \" ,model2.layers[-1].w_matrix[0][0])\n",
    "for k in range(20):\n",
    "    for l, data in enumerate(train_dataset):\n",
    "        res = model2.produce(data)\n",
    "        i = res.values.index(maximum(res))\n",
    "        if train_labels[l][i] == 1:\n",
    "            continue\n",
    "        else:\n",
    "            model2.train(train_dataset[l:l+1], train_labels[l:l+1], batch_size=1, \n",
    "                         lr=0.3)\n",
    "print(\"First weight of the last layer after training: \", model2.layers[-1].w_matrix[0][0])"
   ],
   "metadata": {
    "collapsed": false,
    "ExecuteTime": {
     "end_time": "2024-06-03T20:19:33.034938Z",
     "start_time": "2024-06-03T20:19:32.804127Z"
    }
   },
   "id": "b484538f9632b49c"
  },
  {
   "cell_type": "code",
   "execution_count": 1100,
   "outputs": [
    {
     "name": "stdout",
     "output_type": "stream",
     "text": [
      "[0.5405155626931213, 0.45948443730687866] [0, 1]\n",
      "[0.5405155626931213, 0.45948443730687866] [1, 0]\n",
      "[0.5405155626931213, 0.45948443730687866] [0, 1]\n",
      "[0.5405155626931213, 0.45948443730687866] [1, 0]\n",
      "[0.5405155626931213, 0.45948443730687866] [1, 0]\n",
      "[0.5405155626931213, 0.45948443730687866] [0, 1]\n",
      "[0.5405155626931213, 0.45948443730687866] [1, 0]\n",
      "[0.5405155626931213, 0.45948443730687866] [0, 1]\n",
      "[0.5405155626931213, 0.45948443730687866] [0, 1]\n",
      "[0.5405155626931213, 0.45948443730687866] [0, 1]\n",
      "[0.5405155626931213, 0.45948443730687866] [0, 1]\n",
      "[0.5405155626931213, 0.45948443730687866] [1, 0]\n",
      "[0.5405155626931213, 0.45948443730687866] [1, 0]\n",
      "[0.5405155626931213, 0.45948443730687866] [1, 0]\n",
      "[0.5405155626931213, 0.45948443730687866] [0, 1]\n",
      "[0.5405155626931213, 0.45948443730687866] [0, 1]\n",
      "[0.5405155626931213, 0.45948443730687866] [0, 1]\n",
      "[0.5405155626931213, 0.45948443730687866] [1, 0]\n",
      "[0.5405155626931213, 0.45948443730687866] [1, 0]\n",
      "[0.5405155626931213, 0.45948443730687866] [1, 0]\n",
      "Accuracy on the test set is 0.5\n",
      "Accuracy on the train set is 0.5\n"
     ]
    }
   ],
   "source": [
    "correct = 0\n",
    "for k, v in enumerate(test_dataset):\n",
    "    res = model2.produce(v)\n",
    "    print(res, test_labels[k])\n",
    "    i = res.values.index(maximum(res))\n",
    "    if test_labels[k][i] == 1:\n",
    "        correct += 1\n",
    "    \n",
    "print(f\"Accuracy on the test set is {correct / 20}\")\n",
    "\n",
    "correct = 0\n",
    "for k, v in enumerate(train_dataset):\n",
    "    res = model2.produce(v)\n",
    "    i = res.values.index(maximum(res))\n",
    "    if train_labels[k][i] == 1:\n",
    "        correct += 1\n",
    "        \n",
    "print(f\"Accuracy on the train set is {correct / 180}\")"
   ],
   "metadata": {
    "collapsed": false,
    "ExecuteTime": {
     "end_time": "2024-06-03T20:19:33.047924Z",
     "start_time": "2024-06-03T20:19:33.043135Z"
    }
   },
   "id": "97cd67450f0f96f9"
  },
  {
   "cell_type": "code",
   "execution_count": 1101,
   "outputs": [],
   "source": [
    "#model2.saveModel(\"./\")"
   ],
   "metadata": {
    "collapsed": false,
    "ExecuteTime": {
     "end_time": "2024-06-03T20:19:33.049733Z",
     "start_time": "2024-06-03T20:19:33.047709Z"
    }
   },
   "id": "17c0f9896e33f5e5"
  },
  {
   "cell_type": "code",
   "execution_count": 1101,
   "outputs": [],
   "source": [],
   "metadata": {
    "collapsed": false,
    "ExecuteTime": {
     "end_time": "2024-06-03T20:19:33.051318Z",
     "start_time": "2024-06-03T20:19:33.049262Z"
    }
   },
   "id": "322e43618af6ae0"
  }
 ],
 "metadata": {
  "kernelspec": {
   "display_name": "Python 3",
   "language": "python",
   "name": "python3"
  },
  "language_info": {
   "codemirror_mode": {
    "name": "ipython",
    "version": 2
   },
   "file_extension": ".py",
   "mimetype": "text/x-python",
   "name": "python",
   "nbconvert_exporter": "python",
   "pygments_lexer": "ipython2",
   "version": "2.7.6"
  }
 },
 "nbformat": 4,
 "nbformat_minor": 5
}
